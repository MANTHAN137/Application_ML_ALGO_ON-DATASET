{
 "cells": [
  {
   "cell_type": "code",
   "execution_count": 84,
   "metadata": {},
   "outputs": [],
   "source": [
    "import numpy as np\n",
    "import pandas as pd\n",
    "from sklearn.model_selection import train_test_split\n",
    "from sklearn.feature_extraction.text import  TfidfVectorizer\n",
    "from sklearn.linear_model import LogisticRegression\n",
    "from sklearn.metrics import accuracy_score"
   ]
  },
  {
   "cell_type": "code",
   "execution_count": 85,
   "metadata": {},
   "outputs": [
    {
     "data": {
      "text/html": [
       "<div>\n",
       "<style scoped>\n",
       "    .dataframe tbody tr th:only-of-type {\n",
       "        vertical-align: middle;\n",
       "    }\n",
       "\n",
       "    .dataframe tbody tr th {\n",
       "        vertical-align: top;\n",
       "    }\n",
       "\n",
       "    .dataframe thead th {\n",
       "        text-align: right;\n",
       "    }\n",
       "</style>\n",
       "<table border=\"1\" class=\"dataframe\">\n",
       "  <thead>\n",
       "    <tr style=\"text-align: right;\">\n",
       "      <th></th>\n",
       "      <th>Category</th>\n",
       "      <th>Message</th>\n",
       "    </tr>\n",
       "  </thead>\n",
       "  <tbody>\n",
       "    <tr>\n",
       "      <th>0</th>\n",
       "      <td>ham</td>\n",
       "      <td>Go until jurong point, crazy.. Available only ...</td>\n",
       "    </tr>\n",
       "    <tr>\n",
       "      <th>1</th>\n",
       "      <td>ham</td>\n",
       "      <td>Ok lar... Joking wif u oni...</td>\n",
       "    </tr>\n",
       "    <tr>\n",
       "      <th>2</th>\n",
       "      <td>spam</td>\n",
       "      <td>Free entry in 2 a wkly comp to win FA Cup fina...</td>\n",
       "    </tr>\n",
       "    <tr>\n",
       "      <th>3</th>\n",
       "      <td>ham</td>\n",
       "      <td>U dun say so early hor... U c already then say...</td>\n",
       "    </tr>\n",
       "    <tr>\n",
       "      <th>4</th>\n",
       "      <td>ham</td>\n",
       "      <td>Nah I don't think he goes to usf, he lives aro...</td>\n",
       "    </tr>\n",
       "  </tbody>\n",
       "</table>\n",
       "</div>"
      ],
      "text/plain": [
       "  Category                                            Message\n",
       "0      ham  Go until jurong point, crazy.. Available only ...\n",
       "1      ham                      Ok lar... Joking wif u oni...\n",
       "2     spam  Free entry in 2 a wkly comp to win FA Cup fina...\n",
       "3      ham  U dun say so early hor... U c already then say...\n",
       "4      ham  Nah I don't think he goes to usf, he lives aro..."
      ]
     },
     "execution_count": 85,
     "metadata": {},
     "output_type": "execute_result"
    }
   ],
   "source": [
    "data=pd.read_csv('mail_data.csv')\n",
    "data.head(5)\n"
   ]
  },
  {
   "cell_type": "code",
   "execution_count": 86,
   "metadata": {},
   "outputs": [
    {
     "data": {
      "text/plain": [
       "Category    0\n",
       "Message     0\n",
       "dtype: int64"
      ]
     },
     "execution_count": 86,
     "metadata": {},
     "output_type": "execute_result"
    }
   ],
   "source": [
    "data.isnull().sum()"
   ]
  },
  {
   "cell_type": "code",
   "execution_count": 87,
   "metadata": {},
   "outputs": [],
   "source": [
    "data=data.fillna('')"
   ]
  },
  {
   "cell_type": "code",
   "execution_count": 88,
   "metadata": {},
   "outputs": [
    {
     "data": {
      "text/plain": [
       "(5572, 2)"
      ]
     },
     "execution_count": 88,
     "metadata": {},
     "output_type": "execute_result"
    }
   ],
   "source": [
    "data.shape"
   ]
  },
  {
   "cell_type": "code",
   "execution_count": 89,
   "metadata": {},
   "outputs": [],
   "source": [
    "def change(x):\n",
    "    if(x=='spam'):\n",
    "        return 0\n",
    "    else:\n",
    "        return 1"
   ]
  },
  {
   "cell_type": "code",
   "execution_count": 90,
   "metadata": {},
   "outputs": [],
   "source": [
    "# data.loc[data['Category']=='spam','Category',]=0\n",
    "# data.loc[data['Category']=='ham','Category',]=1"
   ]
  },
  {
   "cell_type": "code",
   "execution_count": 91,
   "metadata": {},
   "outputs": [],
   "source": [
    "data['Category']=data['Category'].apply(change)"
   ]
  },
  {
   "cell_type": "code",
   "execution_count": 92,
   "metadata": {},
   "outputs": [],
   "source": [
    "x=data['Message']\n",
    "y=data['Category']"
   ]
  },
  {
   "cell_type": "code",
   "execution_count": 93,
   "metadata": {},
   "outputs": [],
   "source": [
    "x_train,x_test,y_train,y_test=train_test_split(x,y,test_size=0.2,stratify=y,random_state=100)"
   ]
  },
  {
   "attachments": {},
   "cell_type": "markdown",
   "metadata": {},
   "source": [
    "# Feature Extraction "
   ]
  },
  {
   "cell_type": "code",
   "execution_count": 94,
   "metadata": {},
   "outputs": [],
   "source": [
    "feature_extraction=TfidfVectorizer(min_df=1,stop_words='english',lowercase=True)\n",
    "\n",
    "x_train_features=feature_extraction.fit_transform(x_train)\n",
    "x_test_features=feature_extraction.transform(x_test)\n",
    "y_train=y_train.astype('int')\n",
    "y_test=y_test.astype(\n",
    "'int'\n",
    ")"
   ]
  },
  {
   "cell_type": "code",
   "execution_count": null,
   "metadata": {},
   "outputs": [],
   "source": []
  },
  {
   "cell_type": "code",
   "execution_count": 95,
   "metadata": {},
   "outputs": [
    {
     "name": "stdout",
     "output_type": "stream",
     "text": [
      "  (0, 3522)\t0.721730272534996\n",
      "  (0, 6779)\t0.6921744098899935\n",
      "  (1, 5248)\t0.19934985004557917\n",
      "  (1, 541)\t0.24523363322642908\n",
      "  (1, 1632)\t0.2047406474170745\n",
      "  (1, 265)\t0.22779998730235707\n",
      "  (1, 3179)\t0.21759045599982588\n",
      "  (1, 7314)\t0.19613371444628183\n",
      "  (1, 286)\t0.30919361692999664\n",
      "  (1, 744)\t0.300586683959204\n",
      "  (1, 508)\t0.30919361692999664\n",
      "  (1, 305)\t0.30919361692999664\n",
      "  (1, 57)\t0.30919361692999664\n",
      "  (1, 2914)\t0.2876085182444637\n",
      "  (1, 5545)\t0.2738511081971566\n",
      "  (1, 5847)\t0.21177302370226905\n",
      "  (1, 2078)\t0.21255226803483587\n",
      "  (2, 4086)\t0.5608408313794364\n",
      "  (2, 986)\t0.8279236449441595\n",
      "  (3, 2762)\t0.3825498875034997\n",
      "  (3, 2763)\t0.3825498875034997\n",
      "  (3, 4611)\t0.3825498875034997\n",
      "  (3, 5952)\t0.3825498875034997\n",
      "  (3, 6071)\t0.24677814794205735\n",
      "  (3, 7053)\t0.3825498875034997\n",
      "  :\t:\n",
      "  (4451, 3987)\t0.27281976968999944\n",
      "  (4451, 6681)\t0.17266061183824669\n",
      "  (4451, 5439)\t0.27281976968999944\n",
      "  (4451, 6065)\t0.27601351205352903\n",
      "  (4452, 3195)\t0.7007412852819547\n",
      "  (4452, 4118)\t0.7134154828018484\n",
      "  (4453, 2684)\t0.630973049539328\n",
      "  (4453, 3438)\t0.5805875348626511\n",
      "  (4453, 2252)\t0.5145785898355572\n",
      "  (4454, 3257)\t0.4447109050996967\n",
      "  (4454, 952)\t0.4447109050996967\n",
      "  (4454, 3254)\t0.4447109050996967\n",
      "  (4454, 4624)\t0.3418268055072424\n",
      "  (4454, 7199)\t0.25148426381549266\n",
      "  (4454, 7198)\t0.38074286857269374\n",
      "  (4454, 4443)\t0.2857299437881089\n",
      "  (4455, 2252)\t0.7154095131881651\n",
      "  (4455, 6649)\t0.6987053945976605\n",
      "  (4456, 5998)\t0.45887764012800103\n",
      "  (4456, 3394)\t0.45887764012800103\n",
      "  (4456, 5051)\t0.410599945434178\n",
      "  (4456, 3095)\t0.36447308749956875\n",
      "  (4456, 5509)\t0.32174664704282446\n",
      "  (4456, 3753)\t0.19417849876751417\n",
      "  (4456, 7154)\t0.36905755894194875\n"
     ]
    }
   ],
   "source": [
    "print(x_train_features)"
   ]
  },
  {
   "cell_type": "code",
   "execution_count": 96,
   "metadata": {},
   "outputs": [],
   "source": [
    "model=LogisticRegression()"
   ]
  },
  {
   "cell_type": "code",
   "execution_count": 97,
   "metadata": {},
   "outputs": [
    {
     "data": {
      "text/plain": [
       "LogisticRegression()"
      ]
     },
     "execution_count": 97,
     "metadata": {},
     "output_type": "execute_result"
    }
   ],
   "source": [
    "model.fit(x_train_features,y_train)"
   ]
  },
  {
   "cell_type": "code",
   "execution_count": 98,
   "metadata": {},
   "outputs": [],
   "source": [
    "prediction=model.predict(x_test_features)"
   ]
  },
  {
   "cell_type": "code",
   "execution_count": 99,
   "metadata": {},
   "outputs": [
    {
     "data": {
      "text/plain": [
       "0.9596412556053812"
      ]
     },
     "execution_count": 99,
     "metadata": {},
     "output_type": "execute_result"
    }
   ],
   "source": [
    "accuracy_score(prediction,y_test)"
   ]
  },
  {
   "cell_type": "code",
   "execution_count": 100,
   "metadata": {},
   "outputs": [
    {
     "data": {
      "text/plain": [
       "array([1])"
      ]
     },
     "execution_count": 100,
     "metadata": {},
     "output_type": "execute_result"
    }
   ],
   "source": [
    "e=feature_extraction.transform([str.lower(\"Go until jurong point, crazy.. Available only in bugis n great world la e buffet... Cine there got amore wat...\")])\n",
    "model.predict(e)"
   ]
  }
 ],
 "metadata": {
  "kernelspec": {
   "display_name": "base",
   "language": "python",
   "name": "python3"
  },
  "language_info": {
   "codemirror_mode": {
    "name": "ipython",
    "version": 3
   },
   "file_extension": ".py",
   "mimetype": "text/x-python",
   "name": "python",
   "nbconvert_exporter": "python",
   "pygments_lexer": "ipython3",
   "version": "3.8.8"
  },
  "orig_nbformat": 4,
  "vscode": {
   "interpreter": {
    "hash": "dc07d24e2f18896857f0b2a651fe84ba40ce7b297e58d8804a308c8039f752a6"
   }
  }
 },
 "nbformat": 4,
 "nbformat_minor": 2
}
