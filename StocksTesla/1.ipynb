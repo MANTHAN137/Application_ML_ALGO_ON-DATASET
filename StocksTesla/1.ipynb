{
 "cells": [
  {
   "cell_type": "code",
   "execution_count": 1,
   "metadata": {},
   "outputs": [],
   "source": [
    "import pandas as pd\n",
    "import numpy as np\n",
    "import matplotlib.pyplot as plt\n",
    "import seaborn as sns"
   ]
  },
  {
   "cell_type": "code",
   "execution_count": 2,
   "metadata": {},
   "outputs": [],
   "source": [
    "data=pd.read_csv('Tesla.csv')"
   ]
  },
  {
   "cell_type": "code",
   "execution_count": 3,
   "metadata": {},
   "outputs": [
    {
     "data": {
      "text/plain": [
       "['1', 'Apr', '11']"
      ]
     },
     "execution_count": 3,
     "metadata": {},
     "output_type": "execute_result"
    }
   ],
   "source": [
    "data['Date'][0].split('-')"
   ]
  },
  {
   "cell_type": "code",
   "execution_count": 4,
   "metadata": {},
   "outputs": [
    {
     "data": {
      "text/plain": [
       "0        1-Apr-11\n",
       "1        1-Apr-13\n",
       "2        1-Apr-14\n",
       "3        1-Apr-15\n",
       "4        1-Apr-16\n",
       "          ...    \n",
       "3253    30-Sep-16\n",
       "3254    30-Sep-19\n",
       "3255    30-Sep-20\n",
       "3256    30-Sep-21\n",
       "3257    30-Sep-22\n",
       "Name: Date, Length: 3258, dtype: object"
      ]
     },
     "execution_count": 4,
     "metadata": {},
     "output_type": "execute_result"
    }
   ],
   "source": [
    "data.get('Date')"
   ]
  },
  {
   "cell_type": "code",
   "execution_count": 5,
   "metadata": {},
   "outputs": [
    {
     "data": {
      "text/plain": [
       "Date        0\n",
       "Price      80\n",
       "Open       80\n",
       "High       80\n",
       "Low        80\n",
       "Volume     80\n",
       "Chg%      120\n",
       "dtype: int64"
      ]
     },
     "execution_count": 5,
     "metadata": {},
     "output_type": "execute_result"
    }
   ],
   "source": [
    "data.isnull().sum()"
   ]
  },
  {
   "cell_type": "code",
   "execution_count": 6,
   "metadata": {},
   "outputs": [],
   "source": [
    "data=data.dropna()"
   ]
  },
  {
   "cell_type": "code",
   "execution_count": 7,
   "metadata": {},
   "outputs": [
    {
     "data": {
      "text/plain": [
       "Date      0\n",
       "Price     0\n",
       "Open      0\n",
       "High      0\n",
       "Low       0\n",
       "Volume    0\n",
       "Chg%      0\n",
       "dtype: int64"
      ]
     },
     "execution_count": 7,
     "metadata": {},
     "output_type": "execute_result"
    }
   ],
   "source": [
    "data.isnull().sum()"
   ]
  },
  {
   "cell_type": "code",
   "execution_count": 8,
   "metadata": {},
   "outputs": [
    {
     "data": {
      "text/html": [
       "<div>\n",
       "<style scoped>\n",
       "    .dataframe tbody tr th:only-of-type {\n",
       "        vertical-align: middle;\n",
       "    }\n",
       "\n",
       "    .dataframe tbody tr th {\n",
       "        vertical-align: top;\n",
       "    }\n",
       "\n",
       "    .dataframe thead th {\n",
       "        text-align: right;\n",
       "    }\n",
       "</style>\n",
       "<table border=\"1\" class=\"dataframe\">\n",
       "  <thead>\n",
       "    <tr style=\"text-align: right;\">\n",
       "      <th></th>\n",
       "      <th>Date</th>\n",
       "      <th>Price</th>\n",
       "      <th>Open</th>\n",
       "      <th>High</th>\n",
       "      <th>Low</th>\n",
       "      <th>Volume</th>\n",
       "      <th>Chg%</th>\n",
       "    </tr>\n",
       "  </thead>\n",
       "  <tbody>\n",
       "    <tr>\n",
       "      <th>0</th>\n",
       "      <td>1-Apr-11</td>\n",
       "      <td>1.78</td>\n",
       "      <td>1.83</td>\n",
       "      <td>1.88</td>\n",
       "      <td>1.77</td>\n",
       "      <td>42.98M</td>\n",
       "      <td>-3.78%</td>\n",
       "    </tr>\n",
       "    <tr>\n",
       "      <th>1</th>\n",
       "      <td>1-Apr-13</td>\n",
       "      <td>2.93</td>\n",
       "      <td>2.82</td>\n",
       "      <td>3.11</td>\n",
       "      <td>2.78</td>\n",
       "      <td>211.59M</td>\n",
       "      <td>15.81%</td>\n",
       "    </tr>\n",
       "    <tr>\n",
       "      <th>2</th>\n",
       "      <td>1-Apr-14</td>\n",
       "      <td>14.46</td>\n",
       "      <td>13.93</td>\n",
       "      <td>14.54</td>\n",
       "      <td>13.91</td>\n",
       "      <td>110.57M</td>\n",
       "      <td>4.03%</td>\n",
       "    </tr>\n",
       "    <tr>\n",
       "      <th>3</th>\n",
       "      <td>1-Apr-15</td>\n",
       "      <td>12.51</td>\n",
       "      <td>12.58</td>\n",
       "      <td>12.82</td>\n",
       "      <td>12.4</td>\n",
       "      <td>56.92M</td>\n",
       "      <td>-0.56%</td>\n",
       "    </tr>\n",
       "    <tr>\n",
       "      <th>4</th>\n",
       "      <td>1-Apr-16</td>\n",
       "      <td>15.84</td>\n",
       "      <td>16.32</td>\n",
       "      <td>16.53</td>\n",
       "      <td>15.55</td>\n",
       "      <td>239.96M</td>\n",
       "      <td>3.39%</td>\n",
       "    </tr>\n",
       "    <tr>\n",
       "      <th>...</th>\n",
       "      <td>...</td>\n",
       "      <td>...</td>\n",
       "      <td>...</td>\n",
       "      <td>...</td>\n",
       "      <td>...</td>\n",
       "      <td>...</td>\n",
       "      <td>...</td>\n",
       "    </tr>\n",
       "    <tr>\n",
       "      <th>3253</th>\n",
       "      <td>30-Sep-16</td>\n",
       "      <td>13.60</td>\n",
       "      <td>13.48</td>\n",
       "      <td>13.67</td>\n",
       "      <td>13.3</td>\n",
       "      <td>38.79M</td>\n",
       "      <td>1.64%</td>\n",
       "    </tr>\n",
       "    <tr>\n",
       "      <th>3254</th>\n",
       "      <td>30-Sep-19</td>\n",
       "      <td>16.06</td>\n",
       "      <td>16.20</td>\n",
       "      <td>16.27</td>\n",
       "      <td>15.74</td>\n",
       "      <td>89.19M</td>\n",
       "      <td>-0.50%</td>\n",
       "    </tr>\n",
       "    <tr>\n",
       "      <th>3255</th>\n",
       "      <td>30-Sep-20</td>\n",
       "      <td>143.00</td>\n",
       "      <td>140.44</td>\n",
       "      <td>144.64</td>\n",
       "      <td>140.16</td>\n",
       "      <td>144.44M</td>\n",
       "      <td>2.37%</td>\n",
       "    </tr>\n",
       "    <tr>\n",
       "      <th>3256</th>\n",
       "      <td>30-Sep-21</td>\n",
       "      <td>258.49</td>\n",
       "      <td>260.33</td>\n",
       "      <td>263.04</td>\n",
       "      <td>258.33</td>\n",
       "      <td>53.87M</td>\n",
       "      <td>-0.75%</td>\n",
       "    </tr>\n",
       "    <tr>\n",
       "      <th>3257</th>\n",
       "      <td>30-Sep-22</td>\n",
       "      <td>265.25</td>\n",
       "      <td>266.14</td>\n",
       "      <td>275.57</td>\n",
       "      <td>262.47</td>\n",
       "      <td>67.73M</td>\n",
       "      <td>-1.10%</td>\n",
       "    </tr>\n",
       "  </tbody>\n",
       "</table>\n",
       "<p>3138 rows × 7 columns</p>\n",
       "</div>"
      ],
      "text/plain": [
       "           Date   Price    Open    High     Low   Volume    Chg%\n",
       "0      1-Apr-11    1.78    1.83    1.88    1.77   42.98M  -3.78%\n",
       "1      1-Apr-13    2.93    2.82    3.11    2.78  211.59M  15.81%\n",
       "2      1-Apr-14   14.46   13.93   14.54   13.91  110.57M   4.03%\n",
       "3      1-Apr-15   12.51   12.58   12.82    12.4   56.92M  -0.56%\n",
       "4      1-Apr-16   15.84   16.32   16.53   15.55  239.96M   3.39%\n",
       "...         ...     ...     ...     ...     ...      ...     ...\n",
       "3253  30-Sep-16   13.60   13.48   13.67    13.3   38.79M   1.64%\n",
       "3254  30-Sep-19   16.06   16.20   16.27   15.74   89.19M  -0.50%\n",
       "3255  30-Sep-20  143.00  140.44  144.64  140.16  144.44M   2.37%\n",
       "3256  30-Sep-21  258.49  260.33  263.04  258.33   53.87M  -0.75%\n",
       "3257  30-Sep-22  265.25  266.14  275.57  262.47   67.73M  -1.10%\n",
       "\n",
       "[3138 rows x 7 columns]"
      ]
     },
     "execution_count": 8,
     "metadata": {},
     "output_type": "execute_result"
    }
   ],
   "source": [
    "data"
   ]
  },
  {
   "cell_type": "code",
   "execution_count": 9,
   "metadata": {},
   "outputs": [],
   "source": [
    "data['Dates']=data['Date'].apply(lambda x: int(x.split('-')[0]))\n",
    "data['Months']=data['Date'].apply(lambda x: x.split('-')[1])\n",
    "data['Year']=data['Date'].apply(lambda x: int(x.split('-')[2]))\n"
   ]
  },
  {
   "cell_type": "code",
   "execution_count": 10,
   "metadata": {},
   "outputs": [],
   "source": [
    "months={'Jan':1,'Feb':2,'Mar':3,'Apr':4,'May':5,'Jun':6,'Jul':7,'Aug':8,'Sep':9,'Oct':10,'Nov':11,'Dec':12}"
   ]
  },
  {
   "cell_type": "code",
   "execution_count": 11,
   "metadata": {},
   "outputs": [
    {
     "data": {
      "text/html": [
       "<div>\n",
       "<style scoped>\n",
       "    .dataframe tbody tr th:only-of-type {\n",
       "        vertical-align: middle;\n",
       "    }\n",
       "\n",
       "    .dataframe tbody tr th {\n",
       "        vertical-align: top;\n",
       "    }\n",
       "\n",
       "    .dataframe thead th {\n",
       "        text-align: right;\n",
       "    }\n",
       "</style>\n",
       "<table border=\"1\" class=\"dataframe\">\n",
       "  <thead>\n",
       "    <tr style=\"text-align: right;\">\n",
       "      <th></th>\n",
       "      <th>Date</th>\n",
       "      <th>Price</th>\n",
       "      <th>Open</th>\n",
       "      <th>High</th>\n",
       "      <th>Low</th>\n",
       "      <th>Volume</th>\n",
       "      <th>Chg%</th>\n",
       "      <th>Dates</th>\n",
       "      <th>Months</th>\n",
       "      <th>Year</th>\n",
       "    </tr>\n",
       "  </thead>\n",
       "  <tbody>\n",
       "    <tr>\n",
       "      <th>0</th>\n",
       "      <td>1-Apr-11</td>\n",
       "      <td>1.78</td>\n",
       "      <td>1.83</td>\n",
       "      <td>1.88</td>\n",
       "      <td>1.77</td>\n",
       "      <td>42.98M</td>\n",
       "      <td>-3.78%</td>\n",
       "      <td>1</td>\n",
       "      <td>4</td>\n",
       "      <td>11</td>\n",
       "    </tr>\n",
       "    <tr>\n",
       "      <th>1</th>\n",
       "      <td>1-Apr-13</td>\n",
       "      <td>2.93</td>\n",
       "      <td>2.82</td>\n",
       "      <td>3.11</td>\n",
       "      <td>2.78</td>\n",
       "      <td>211.59M</td>\n",
       "      <td>15.81%</td>\n",
       "      <td>1</td>\n",
       "      <td>4</td>\n",
       "      <td>13</td>\n",
       "    </tr>\n",
       "    <tr>\n",
       "      <th>2</th>\n",
       "      <td>1-Apr-14</td>\n",
       "      <td>14.46</td>\n",
       "      <td>13.93</td>\n",
       "      <td>14.54</td>\n",
       "      <td>13.91</td>\n",
       "      <td>110.57M</td>\n",
       "      <td>4.03%</td>\n",
       "      <td>1</td>\n",
       "      <td>4</td>\n",
       "      <td>14</td>\n",
       "    </tr>\n",
       "    <tr>\n",
       "      <th>3</th>\n",
       "      <td>1-Apr-15</td>\n",
       "      <td>12.51</td>\n",
       "      <td>12.58</td>\n",
       "      <td>12.82</td>\n",
       "      <td>12.4</td>\n",
       "      <td>56.92M</td>\n",
       "      <td>-0.56%</td>\n",
       "      <td>1</td>\n",
       "      <td>4</td>\n",
       "      <td>15</td>\n",
       "    </tr>\n",
       "    <tr>\n",
       "      <th>4</th>\n",
       "      <td>1-Apr-16</td>\n",
       "      <td>15.84</td>\n",
       "      <td>16.32</td>\n",
       "      <td>16.53</td>\n",
       "      <td>15.55</td>\n",
       "      <td>239.96M</td>\n",
       "      <td>3.39%</td>\n",
       "      <td>1</td>\n",
       "      <td>4</td>\n",
       "      <td>16</td>\n",
       "    </tr>\n",
       "    <tr>\n",
       "      <th>...</th>\n",
       "      <td>...</td>\n",
       "      <td>...</td>\n",
       "      <td>...</td>\n",
       "      <td>...</td>\n",
       "      <td>...</td>\n",
       "      <td>...</td>\n",
       "      <td>...</td>\n",
       "      <td>...</td>\n",
       "      <td>...</td>\n",
       "      <td>...</td>\n",
       "    </tr>\n",
       "    <tr>\n",
       "      <th>3253</th>\n",
       "      <td>30-Sep-16</td>\n",
       "      <td>13.60</td>\n",
       "      <td>13.48</td>\n",
       "      <td>13.67</td>\n",
       "      <td>13.3</td>\n",
       "      <td>38.79M</td>\n",
       "      <td>1.64%</td>\n",
       "      <td>30</td>\n",
       "      <td>9</td>\n",
       "      <td>16</td>\n",
       "    </tr>\n",
       "    <tr>\n",
       "      <th>3254</th>\n",
       "      <td>30-Sep-19</td>\n",
       "      <td>16.06</td>\n",
       "      <td>16.20</td>\n",
       "      <td>16.27</td>\n",
       "      <td>15.74</td>\n",
       "      <td>89.19M</td>\n",
       "      <td>-0.50%</td>\n",
       "      <td>30</td>\n",
       "      <td>9</td>\n",
       "      <td>19</td>\n",
       "    </tr>\n",
       "    <tr>\n",
       "      <th>3255</th>\n",
       "      <td>30-Sep-20</td>\n",
       "      <td>143.00</td>\n",
       "      <td>140.44</td>\n",
       "      <td>144.64</td>\n",
       "      <td>140.16</td>\n",
       "      <td>144.44M</td>\n",
       "      <td>2.37%</td>\n",
       "      <td>30</td>\n",
       "      <td>9</td>\n",
       "      <td>20</td>\n",
       "    </tr>\n",
       "    <tr>\n",
       "      <th>3256</th>\n",
       "      <td>30-Sep-21</td>\n",
       "      <td>258.49</td>\n",
       "      <td>260.33</td>\n",
       "      <td>263.04</td>\n",
       "      <td>258.33</td>\n",
       "      <td>53.87M</td>\n",
       "      <td>-0.75%</td>\n",
       "      <td>30</td>\n",
       "      <td>9</td>\n",
       "      <td>21</td>\n",
       "    </tr>\n",
       "    <tr>\n",
       "      <th>3257</th>\n",
       "      <td>30-Sep-22</td>\n",
       "      <td>265.25</td>\n",
       "      <td>266.14</td>\n",
       "      <td>275.57</td>\n",
       "      <td>262.47</td>\n",
       "      <td>67.73M</td>\n",
       "      <td>-1.10%</td>\n",
       "      <td>30</td>\n",
       "      <td>9</td>\n",
       "      <td>22</td>\n",
       "    </tr>\n",
       "  </tbody>\n",
       "</table>\n",
       "<p>3138 rows × 10 columns</p>\n",
       "</div>"
      ],
      "text/plain": [
       "           Date   Price    Open    High     Low   Volume    Chg%  Dates  \\\n",
       "0      1-Apr-11    1.78    1.83    1.88    1.77   42.98M  -3.78%      1   \n",
       "1      1-Apr-13    2.93    2.82    3.11    2.78  211.59M  15.81%      1   \n",
       "2      1-Apr-14   14.46   13.93   14.54   13.91  110.57M   4.03%      1   \n",
       "3      1-Apr-15   12.51   12.58   12.82    12.4   56.92M  -0.56%      1   \n",
       "4      1-Apr-16   15.84   16.32   16.53   15.55  239.96M   3.39%      1   \n",
       "...         ...     ...     ...     ...     ...      ...     ...    ...   \n",
       "3253  30-Sep-16   13.60   13.48   13.67    13.3   38.79M   1.64%     30   \n",
       "3254  30-Sep-19   16.06   16.20   16.27   15.74   89.19M  -0.50%     30   \n",
       "3255  30-Sep-20  143.00  140.44  144.64  140.16  144.44M   2.37%     30   \n",
       "3256  30-Sep-21  258.49  260.33  263.04  258.33   53.87M  -0.75%     30   \n",
       "3257  30-Sep-22  265.25  266.14  275.57  262.47   67.73M  -1.10%     30   \n",
       "\n",
       "      Months  Year  \n",
       "0          4    11  \n",
       "1          4    13  \n",
       "2          4    14  \n",
       "3          4    15  \n",
       "4          4    16  \n",
       "...      ...   ...  \n",
       "3253       9    16  \n",
       "3254       9    19  \n",
       "3255       9    20  \n",
       "3256       9    21  \n",
       "3257       9    22  \n",
       "\n",
       "[3138 rows x 10 columns]"
      ]
     },
     "execution_count": 11,
     "metadata": {},
     "output_type": "execute_result"
    }
   ],
   "source": [
    "data['Months']=data['Months'].replace(months)\n",
    "data[data['Months'].isin(months)]\n",
    "data"
   ]
  },
  {
   "cell_type": "code",
   "execution_count": 12,
   "metadata": {},
   "outputs": [
    {
     "data": {
      "text/html": [
       "<div>\n",
       "<style scoped>\n",
       "    .dataframe tbody tr th:only-of-type {\n",
       "        vertical-align: middle;\n",
       "    }\n",
       "\n",
       "    .dataframe tbody tr th {\n",
       "        vertical-align: top;\n",
       "    }\n",
       "\n",
       "    .dataframe thead th {\n",
       "        text-align: right;\n",
       "    }\n",
       "</style>\n",
       "<table border=\"1\" class=\"dataframe\">\n",
       "  <thead>\n",
       "    <tr style=\"text-align: right;\">\n",
       "      <th></th>\n",
       "      <th>Price</th>\n",
       "      <th>Open</th>\n",
       "      <th>High</th>\n",
       "      <th>Low</th>\n",
       "      <th>Volume</th>\n",
       "      <th>Chg%</th>\n",
       "      <th>Date</th>\n",
       "      <th>Months</th>\n",
       "      <th>Year</th>\n",
       "    </tr>\n",
       "  </thead>\n",
       "  <tbody>\n",
       "    <tr>\n",
       "      <th>0</th>\n",
       "      <td>1.59</td>\n",
       "      <td>1.72</td>\n",
       "      <td>2.03</td>\n",
       "      <td>1.55</td>\n",
       "      <td>257.92M</td>\n",
       "      <td>0.00%</td>\n",
       "      <td>30</td>\n",
       "      <td>6</td>\n",
       "      <td>10</td>\n",
       "    </tr>\n",
       "    <tr>\n",
       "      <th>1</th>\n",
       "      <td>1.46</td>\n",
       "      <td>1.67</td>\n",
       "      <td>1.73</td>\n",
       "      <td>1.35</td>\n",
       "      <td>123.45M</td>\n",
       "      <td>-8.18%</td>\n",
       "      <td>1</td>\n",
       "      <td>7</td>\n",
       "      <td>10</td>\n",
       "    </tr>\n",
       "    <tr>\n",
       "      <th>2</th>\n",
       "      <td>1.28</td>\n",
       "      <td>1.53</td>\n",
       "      <td>1.54</td>\n",
       "      <td>1.25</td>\n",
       "      <td>77.13M</td>\n",
       "      <td>-12.33%</td>\n",
       "      <td>2</td>\n",
       "      <td>7</td>\n",
       "      <td>10</td>\n",
       "    </tr>\n",
       "    <tr>\n",
       "      <th>3</th>\n",
       "      <td>1.07</td>\n",
       "      <td>1.33</td>\n",
       "      <td>1.33</td>\n",
       "      <td>1.06</td>\n",
       "      <td>103.19M</td>\n",
       "      <td>-16.41%</td>\n",
       "      <td>6</td>\n",
       "      <td>7</td>\n",
       "      <td>10</td>\n",
       "    </tr>\n",
       "    <tr>\n",
       "      <th>4</th>\n",
       "      <td>1.05</td>\n",
       "      <td>1.09</td>\n",
       "      <td>1.11</td>\n",
       "      <td>1</td>\n",
       "      <td>103.87M</td>\n",
       "      <td>-1.87%</td>\n",
       "      <td>7</td>\n",
       "      <td>7</td>\n",
       "      <td>10</td>\n",
       "    </tr>\n",
       "    <tr>\n",
       "      <th>5</th>\n",
       "      <td>1.16</td>\n",
       "      <td>1.08</td>\n",
       "      <td>1.17</td>\n",
       "      <td>1.04</td>\n",
       "      <td>115.79M</td>\n",
       "      <td>10.48%</td>\n",
       "      <td>8</td>\n",
       "      <td>7</td>\n",
       "      <td>10</td>\n",
       "    </tr>\n",
       "    <tr>\n",
       "      <th>6</th>\n",
       "      <td>1.16</td>\n",
       "      <td>1.17</td>\n",
       "      <td>1.19</td>\n",
       "      <td>1.1</td>\n",
       "      <td>60.88M</td>\n",
       "      <td>0.00%</td>\n",
       "      <td>9</td>\n",
       "      <td>7</td>\n",
       "      <td>10</td>\n",
       "    </tr>\n",
       "    <tr>\n",
       "      <th>7</th>\n",
       "      <td>1.14</td>\n",
       "      <td>1.20</td>\n",
       "      <td>1.20</td>\n",
       "      <td>1.13</td>\n",
       "      <td>33.05M</td>\n",
       "      <td>-1.72%</td>\n",
       "      <td>12</td>\n",
       "      <td>7</td>\n",
       "      <td>10</td>\n",
       "    </tr>\n",
       "    <tr>\n",
       "      <th>8</th>\n",
       "      <td>1.21</td>\n",
       "      <td>1.16</td>\n",
       "      <td>1.24</td>\n",
       "      <td>1.13</td>\n",
       "      <td>40.20M</td>\n",
       "      <td>6.14%</td>\n",
       "      <td>13</td>\n",
       "      <td>7</td>\n",
       "      <td>10</td>\n",
       "    </tr>\n",
       "    <tr>\n",
       "      <th>9</th>\n",
       "      <td>1.32</td>\n",
       "      <td>1.20</td>\n",
       "      <td>1.34</td>\n",
       "      <td>1.18</td>\n",
       "      <td>62.94M</td>\n",
       "      <td>9.09%</td>\n",
       "      <td>14</td>\n",
       "      <td>7</td>\n",
       "      <td>10</td>\n",
       "    </tr>\n",
       "  </tbody>\n",
       "</table>\n",
       "</div>"
      ],
      "text/plain": [
       "   Price  Open  High   Low   Volume     Chg%  Date  Months  Year\n",
       "0   1.59  1.72  2.03  1.55  257.92M    0.00%    30       6    10\n",
       "1   1.46  1.67  1.73  1.35  123.45M   -8.18%     1       7    10\n",
       "2   1.28  1.53  1.54  1.25   77.13M  -12.33%     2       7    10\n",
       "3   1.07  1.33  1.33  1.06  103.19M  -16.41%     6       7    10\n",
       "4   1.05  1.09  1.11     1  103.87M   -1.87%     7       7    10\n",
       "5   1.16  1.08  1.17  1.04  115.79M   10.48%     8       7    10\n",
       "6   1.16  1.17  1.19   1.1   60.88M    0.00%     9       7    10\n",
       "7   1.14  1.20  1.20  1.13   33.05M   -1.72%    12       7    10\n",
       "8   1.21  1.16  1.24  1.13   40.20M    6.14%    13       7    10\n",
       "9   1.32  1.20  1.34  1.18   62.94M    9.09%    14       7    10"
      ]
     },
     "execution_count": 12,
     "metadata": {},
     "output_type": "execute_result"
    }
   ],
   "source": [
    "data=data.sort_values(['Year','Months','Dates'])\n",
    "data=data.reset_index()\n",
    "data=data.drop(columns=(['index','Date']))\n",
    "data=data.rename(columns={'Dates':'Date'})\n",
    "data.head(10)"
   ]
  },
  {
   "cell_type": "code",
   "execution_count": 13,
   "metadata": {},
   "outputs": [
    {
     "name": "stdout",
     "output_type": "stream",
     "text": [
      "    Year       Price\n",
      "0     10    1.555659\n",
      "1     11    1.787063\n",
      "2     12    2.077640\n",
      "3     13    6.941235\n",
      "4     14   14.900484\n",
      "5     15   15.335605\n",
      "6     16   13.996694\n",
      "7     17   20.970445\n",
      "8     18   21.162834\n",
      "9     19   18.237137\n",
      "10    20   96.577379\n",
      "11    21  259.990363\n",
      "12    22  262.733984\n",
      "13    23  153.245000\n"
     ]
    },
    {
     "data": {
      "image/png": "[encoded data removed]",
      "text/plain": [
       "<Figure size 432x288 with 1 Axes>"
      ]
     },
     "metadata": {
      "needs_background": "light"
     },
     "output_type": "display_data"
    },
    {
     "name": "stderr",
     "output_type": "stream",
     "text": [
      "c:\\Users\\HP\\anaconda3\\lib\\site-packages\\seaborn\\_decorators.py:36: FutureWarning: Pass the following variables as keyword args: x, y. From version 0.12, the only valid positional argument will be `data`, and passing other arguments without an explicit keyword will result in an error or misinterpretation.\n",
      "  warnings.warn(\n"
     ]
    },
    {
     "data": {
      "image/png": "[encoded data removed]",
      "text/plain": [
       "<Figure size 432x288 with 1 Axes>"
      ]
     },
     "metadata": {
      "needs_background": "light"
     },
     "output_type": "display_data"
    }
   ],
   "source": [
    "\n",
    "# Convert the 'Price' column to a numerical data type\n",
    "data['Price'] = pd.to_numeric(data['Price'])\n",
    "# Group the data by 'Year' and calculate the mean of the 'Price' column for each year\n",
    "grouped_data = data.groupby('Year')['Price'].mean().reset_index()\n",
    "print(grouped_data)\n",
    "# Plot the resulting DataFrame\n",
    "plt.plot(grouped_data['Year'], grouped_data['Price'])\n",
    "plt.xlabel('Year')\n",
    "plt.ylabel('Average Price')\n",
    "plt.title('Average Price vs Year')\n",
    "plt.show()\n",
    "\n",
    "sns.barplot(grouped_data['Year'],grouped_data['Price'])\n",
    "\n",
    "plt.show()"
   ]
  },
  {
   "cell_type": "code",
   "execution_count": 14,
   "metadata": {},
   "outputs": [],
   "source": [
    "from sklearn.ensemble import RandomForestClassifier\n",
    "from sklearn.svm import SVC\n",
    "from sklearn.naive_bayes import GaussianNB\n",
    "from sklearn.metrics import confusion_matrix, classification_report\n",
    "from sklearn.preprocessing import StandardScaler, LabelEncoder\n",
    "from sklearn.model_selection import train_test_split\n",
    "from sklearn.metrics import accuracy_score"
   ]
  },
  {
   "cell_type": "code",
   "execution_count": 15,
   "metadata": {},
   "outputs": [],
   "source": [
    "data['Price']=data['Price'].astype(int)\n",
    "data['Chg%']=data['Chg%'].apply(lambda x: x.split('%')[0])\n",
    "data['Volume']=data['Volume'].apply(lambda x: float(x.split('M')[0]))"
   ]
  },
  {
   "cell_type": "code",
   "execution_count": 16,
   "metadata": {},
   "outputs": [
    {
     "name": "stdout",
     "output_type": "stream",
     "text": [
      "    Year      Volume\n",
      "0     10   21.710310\n",
      "1     11   19.364206\n",
      "2     12   18.449840\n",
      "3     13  125.304701\n",
      "4     14  102.905847\n",
      "5     15   64.034032\n",
      "6     16   68.575685\n",
      "7     17   93.489271\n",
      "8     18  128.476275\n",
      "9     19  137.449960\n",
      "10    20  225.899556\n",
      "11    21   82.338831\n",
      "12    22   87.063618\n",
      "13    23  195.934286\n"
     ]
    },
    {
     "name": "stderr",
     "output_type": "stream",
     "text": [
      "c:\\Users\\HP\\anaconda3\\lib\\site-packages\\seaborn\\_decorators.py:36: FutureWarning: Pass the following variables as keyword args: x, y. From version 0.12, the only valid positional argument will be `data`, and passing other arguments without an explicit keyword will result in an error or misinterpretation.\n",
      "  warnings.warn(\n"
     ]
    },
    {
     "data": {
      "image/png": "[encoded data removed]",
      "text/plain": [
       "<Figure size 432x288 with 1 Axes>"
      ]
     },
     "metadata": {
      "needs_background": "light"
     },
     "output_type": "display_data"
    }
   ],
   "source": [
    "gr_val=data.groupby('Year')['Volume'].mean().reset_index()\n",
    "print(gr_val)\n",
    "sns.barplot(gr_val['Year'],gr_val['Volume'])\n",
    "plt.show()\n"
   ]
  },
  {
   "cell_type": "code",
   "execution_count": 17,
   "metadata": {},
   "outputs": [
    {
     "data": {
      "text/plain": [
       "Index(['Price', 'Open', 'High', 'Low', 'Volume', 'Chg%', 'Date', 'Months',\n",
       "       'Year'],\n",
       "      dtype='object')"
      ]
     },
     "execution_count": 17,
     "metadata": {},
     "output_type": "execute_result"
    }
   ],
   "source": [
    "data.columns"
   ]
  },
  {
   "cell_type": "code",
   "execution_count": 18,
   "metadata": {},
   "outputs": [],
   "source": [
    "x=data.drop(columns=(['Price','Chg%','High','Low','Volume','Chg%','Open']))\n",
    "y=data['Price']"
   ]
  },
  {
   "cell_type": "code",
   "execution_count": 19,
   "metadata": {},
   "outputs": [],
   "source": [
    "x_train,x_test,y_train,y_test=train_test_split(x,y,test_size=0.2,random_state=10)"
   ]
  },
  {
   "cell_type": "code",
   "execution_count": 20,
   "metadata": {},
   "outputs": [],
   "source": [
    "classy=RandomForestClassifier()\n",
    "svc=SVC()\n"
   ]
  },
  {
   "cell_type": "code",
   "execution_count": 21,
   "metadata": {},
   "outputs": [],
   "source": [
    "normal=GaussianNB()"
   ]
  },
  {
   "cell_type": "code",
   "execution_count": 22,
   "metadata": {},
   "outputs": [
    {
     "data": {
      "text/html": [
       "<div>\n",
       "<style scoped>\n",
       "    .dataframe tbody tr th:only-of-type {\n",
       "        vertical-align: middle;\n",
       "    }\n",
       "\n",
       "    .dataframe tbody tr th {\n",
       "        vertical-align: top;\n",
       "    }\n",
       "\n",
       "    .dataframe thead th {\n",
       "        text-align: right;\n",
       "    }\n",
       "</style>\n",
       "<table border=\"1\" class=\"dataframe\">\n",
       "  <thead>\n",
       "    <tr style=\"text-align: right;\">\n",
       "      <th></th>\n",
       "      <th>Date</th>\n",
       "      <th>Months</th>\n",
       "      <th>Year</th>\n",
       "    </tr>\n",
       "  </thead>\n",
       "  <tbody>\n",
       "    <tr>\n",
       "      <th>604</th>\n",
       "      <td>21</td>\n",
       "      <td>11</td>\n",
       "      <td>12</td>\n",
       "    </tr>\n",
       "    <tr>\n",
       "      <th>146</th>\n",
       "      <td>27</td>\n",
       "      <td>1</td>\n",
       "      <td>11</td>\n",
       "    </tr>\n",
       "    <tr>\n",
       "      <th>1644</th>\n",
       "      <td>30</td>\n",
       "      <td>1</td>\n",
       "      <td>17</td>\n",
       "    </tr>\n",
       "    <tr>\n",
       "      <th>2473</th>\n",
       "      <td>5</td>\n",
       "      <td>6</td>\n",
       "      <td>20</td>\n",
       "    </tr>\n",
       "    <tr>\n",
       "      <th>837</th>\n",
       "      <td>25</td>\n",
       "      <td>10</td>\n",
       "      <td>13</td>\n",
       "    </tr>\n",
       "    <tr>\n",
       "      <th>...</th>\n",
       "      <td>...</td>\n",
       "      <td>...</td>\n",
       "      <td>...</td>\n",
       "    </tr>\n",
       "    <tr>\n",
       "      <th>2009</th>\n",
       "      <td>20</td>\n",
       "      <td>7</td>\n",
       "      <td>18</td>\n",
       "    </tr>\n",
       "    <tr>\n",
       "      <th>1180</th>\n",
       "      <td>18</td>\n",
       "      <td>3</td>\n",
       "      <td>15</td>\n",
       "    </tr>\n",
       "    <tr>\n",
       "      <th>1344</th>\n",
       "      <td>12</td>\n",
       "      <td>11</td>\n",
       "      <td>15</td>\n",
       "    </tr>\n",
       "    <tr>\n",
       "      <th>527</th>\n",
       "      <td>1</td>\n",
       "      <td>8</td>\n",
       "      <td>12</td>\n",
       "    </tr>\n",
       "    <tr>\n",
       "      <th>1289</th>\n",
       "      <td>25</td>\n",
       "      <td>8</td>\n",
       "      <td>15</td>\n",
       "    </tr>\n",
       "  </tbody>\n",
       "</table>\n",
       "<p>2510 rows × 3 columns</p>\n",
       "</div>"
      ],
      "text/plain": [
       "      Date  Months  Year\n",
       "604     21      11    12\n",
       "146     27       1    11\n",
       "1644    30       1    17\n",
       "2473     5       6    20\n",
       "837     25      10    13\n",
       "...    ...     ...   ...\n",
       "2009    20       7    18\n",
       "1180    18       3    15\n",
       "1344    12      11    15\n",
       "527      1       8    12\n",
       "1289    25       8    15\n",
       "\n",
       "[2510 rows x 3 columns]"
      ]
     },
     "execution_count": 22,
     "metadata": {},
     "output_type": "execute_result"
    }
   ],
   "source": [
    "x_train"
   ]
  },
  {
   "cell_type": "code",
   "execution_count": 23,
   "metadata": {},
   "outputs": [
    {
     "data": {
      "text/plain": [
       "SVC()"
      ]
     },
     "execution_count": 23,
     "metadata": {},
     "output_type": "execute_result"
    }
   ],
   "source": [
    "classy.fit(x_train,y_train)\n",
    "svc.fit(x_train,y_train)"
   ]
  },
  {
   "cell_type": "code",
   "execution_count": 24,
   "metadata": {},
   "outputs": [
    {
     "data": {
      "text/plain": [
       "GaussianNB()"
      ]
     },
     "execution_count": 24,
     "metadata": {},
     "output_type": "execute_result"
    }
   ],
   "source": [
    "normal.fit(x_train,y_train)"
   ]
  },
  {
   "cell_type": "code",
   "execution_count": 25,
   "metadata": {},
   "outputs": [
    {
     "name": "stdout",
     "output_type": "stream",
     "text": [
      "Error appox in per% /for random forest----> -+ 0.0 %\n",
      "Error appox in per% /for svc----> -+ 37.22103782728074 %\n",
      "Error appox in per% /for bayes----> -+ 32.21483803965783 %\n"
     ]
    }
   ],
   "source": [
    "# Training Accuracy \n",
    "y_pred_training=classy.predict(x_train)\n",
    "print(\"Error appox in per% /for random forest----> -+\",(abs(y_pred_training-y_train)/y_train * 100 ).mean(),'%')\n",
    "\n",
    "y_pred_training=svc.predict(x_train)\n",
    "print(\"Error appox in per% /for svc----> -+\",(abs(y_pred_training-y_train)/y_train * 100 ).mean(),'%')\n",
    "\n",
    "y_pred_training=normal.predict(x_train)\n",
    "print(\"Error appox in per% /for bayes----> -+\",(abs(y_pred_training-y_train)/y_train * 100 ).mean(),'%')\n",
    "\n"
   ]
  },
  {
   "cell_type": "code",
   "execution_count": 26,
   "metadata": {},
   "outputs": [],
   "source": [
    "y_test_pred=classy.predict(x_test)\n",
    "y_test_Pred_svc=svc.predict(x_test)"
   ]
  },
  {
   "cell_type": "code",
   "execution_count": 27,
   "metadata": {},
   "outputs": [
    {
     "name": "stdout",
     "output_type": "stream",
     "text": [
      "[45]\n"
     ]
    }
   ],
   "source": [
    "print(classy.predict(pd.DataFrame({ 'Date': [27], 'Months': [2], 'Year': [23]})))"
   ]
  },
  {
   "cell_type": "code",
   "execution_count": 28,
   "metadata": {},
   "outputs": [],
   "source": [
    "y_test_pred_normal=normal.predict(x_test)"
   ]
  },
  {
   "cell_type": "code",
   "execution_count": null,
   "metadata": {},
   "outputs": [],
   "source": [
    "data['Price'] = pd.to_numeric(data['Price'])\n",
    "\n",
    "grouped_data = data.groupby('Year')['Price'].mean().reset_index()\n",
    "print(grouped_data)\n",
    "# Plot the resulting DataFrame\n",
    "plt.plot(grouped_data['Year'], grouped_data['Price'])\n",
    "plt.xlabel('Year')\n",
    "plt.ylabel('Average Price')\n",
    "plt.title('Average Price vs Year')\n",
    "plt.show()"
   ]
  },
  {
   "cell_type": "code",
   "execution_count": 29,
   "metadata": {},
   "outputs": [
    {
     "name": "stdout",
     "output_type": "stream",
     "text": [
      "[341  21   1 137   2  16  15  15  15 288  12 261 110   2 222  14  17 352\n",
      "  13  18  22 275 365  11  13 351  15  19   1  17 272   1  14 201   2  14\n",
      "  36   1 207   8  14  13  13   1  14 297   1 284  16  13  20   1   8  17\n",
      "  51  27 243  17  23  20 221  22   2   9  19  14  11  10  15 289  16   2\n",
      "  99  21   1  23  95  23   2 260 192  49  13  23 215  12 203   8  19  17\n",
      "   1  16   1  14   1   5  19  15  10 290  20  28 288   1 149  16  18  14\n",
      "   1   2   2  12  23  13   9  11   2  15   1  15  14  13  15  16  23  21\n",
      " 255  23 123  18 148  22  19   1   1  36   1   2  15  21 299  17 245   1\n",
      "   6   2  18   2  16 225   1  53 225  22  10  42   1  59  10  16 352  22\n",
      "  23 231  12   8   1  16   2   1   1  16 294  12  16  14 245  23  15  13\n",
      "  23  64   1  22 199   2  12  16 189  23   1  21   1  25  18   3  20   1\n",
      " 233 272  23  16   1  23   2  20  13 308  22 280  11 149 309 236  15  22\n",
      "   2  16  12  15 238  11  23  51 363  12  17   2   2  14   1  21  16  23\n",
      "   8 343   2  20  10   1   1  24  20  14  21 214 207   1 301  21   2  54\n",
      "  18 310  14  34  16   1 245  20  19  14  13 218  16  14 340 109   2  18\n",
      " 240  16  14  14   1   1  14  46 360   8   6 297  14 195  20  14  23  22\n",
      " 141  14   2  13  12  18 133   9  63   1   1  17   6  14   2  14   5  13\n",
      " 213   1 150  22 109  17   1   1  13 252  10  13  23  13  25  10  21 222\n",
      "  15   8   2   1  11  14 270  19   1  17 338   1   1  15  14   1  11 139\n",
      "  18  12  20   1   1  52  23 244   7  17  16  22 242  17  17  23  23 233\n",
      "  24   1  18 356 266 268   9  22  20   2  91  13  16  16  18 282  13  15\n",
      "  15  13  12  12   1  22   1   2 215 276   1  18   1  15   2   1   1 144\n",
      "  21  15  16  11  18  18  15  16   2  15  15  14 291 124 232  14  13  21\n",
      "  20  19   7   9  12  66 238  17  10  16 147  15   1  13   1  58  21   1\n",
      "  16 215  17 281   1  67  19 201  17   9 235   1  11 216   2   1   1 300\n",
      "  66  19   2  17  24  16 143  16  14  13  23   2   2  14  14   1  14  23\n",
      "  31 177   1  15   1 201   9 220   1  13 210  23   1  21  21 199   1  15\n",
      "  16   2  22  15  28  20   1   2  14  18   2  18  15 307   2 239  13  16\n",
      "  22  22  14 302   1 271  26 355  16  14   2  15   2  14  16   1  23  23\n",
      "  16  22   2  14  14   1 241 390  19  13   6 344  28  99  23  17   1 221\n",
      "  16  15  36 244 289  80  24   1  68 220  15   1 220  11  23  20  14 187\n",
      " 147  12  31 253   1 186  65 379  91  66   1   1  13 258 219   2   2  74\n",
      "  37  16   1   1 293 404   9  21 205  12  13 141   1  21 219  18   1  18\n",
      "  13  17  11  13 238  16   1 335 102 283 190  20  22  16  11  43  22  21\n",
      "  23  22  21  18  15   1 214  32 381   2  21  15   1  23  17  12]\n",
      "(628,)\n"
     ]
    }
   ],
   "source": [
    "print(y_test.to_numpy())\n",
    "print(y_test.shape)\n"
   ]
  },
  {
   "cell_type": "code",
   "execution_count": 37,
   "metadata": {},
   "outputs": [
    {
     "name": "stdout",
     "output_type": "stream",
     "text": [
      "[387  21   1 136   2  19  14  15  15 233  13  16 122   2 228  14  17 223\n",
      "  13  17  23 281 194  10  13 337  16  22   1  17 270   1  14 226   2  14\n",
      " 281   1 205   7  13  13  14   1  13 227   1  48  15  14  21   1   9  17\n",
      " 223  27 246  15  23  23 228  22   2   9  20  15  12  11  17 296  16   2\n",
      "  98  20   1  22  99  23   2 137 192 228  13  23 141  12 199   8  18  17\n",
      "   1  15   1  13   1   4  19  14  10 301  20  21 290   1 244  15  18  14\n",
      "   1   2   2  12  23  14   9  14   2  14   1  14  14  13  16  16  19  21\n",
      " 267  22 123  18 153  18  21   1   1  34   1   2  15  22 283  17 251   1\n",
      "   6   2  18   2  17 215   1  52 227  22  11  37   1 207  11  18 235  21\n",
      "  22 218  12   8   1  16   1   1   1  16 293  11  16  14 362  23  19  13\n",
      "  19  62   1  23  48   2  12  16 381  22   1  21   1  25  19   3  19   1\n",
      " 222 236  23  16   1  22   2  20  13 325  21 215  10 153 306  94  14  24\n",
      "   2  16  13  16 237  10  23  51 230  12  17   2   2  13   1  21  16  22\n",
      "   8 284   2  21   9   1   1  24  20  13  20 218 214   1 268  20   2  53\n",
      "  18 286  14  33  17   1 240  19  19  14  13 217  17  14 328 104   2  18\n",
      " 237  16  17  15   1   1  15  49 372   8   6 228  14 193  21  14  22  22\n",
      "  16  14   2  13  12  17  23  10  65   1   1  17   6  14   2  14   5  13\n",
      " 233   1 157  21 112  17   1   1  13 359  11  13  24  11  25  13  19 211\n",
      "  15   8   2   1  11  14 354  19   1  17 197   1   1  15  15   1  11 136\n",
      "  15  12  20   1   1 284  23 254   6  17  16  22 244  18  17  23  23 231\n",
      "  24   1  18 362 247 287   9  22  20   2  92  13  16  16  18 281  12  14\n",
      "  14  13  13  12   1  22   1   2 213 282   1  18   1  15   2   1   1  16\n",
      "  20  15  15  11  18  16  14  16   2  14  15  14 307 123  14  14  13  21\n",
      "  20  19   7   9  13  66 232  17  11  16 136  21   1  13   1  11  21   1\n",
      "  17 220  17 272   1 226  19 205  17  10 206   1  10 218   1   1   1 286\n",
      "  66  19   2  17  22  16 310  16  14  13  23   2   2  14  14   1  14  22\n",
      "  32 160   1  15   1 216   9 223   1  14 206  22   1  21  21 233   1  15\n",
      "  15   2  22 225  33  20   1   2  13  18   1  19  15 287   2 199  13  16\n",
      "  19  16  14 196   1 218  26 336  16  14   2  15   2  14  16   1  22  23\n",
      "  14  21   2  14  14   1 238 214  19  13   6 354  21  15  16  17   1 362\n",
      "  15  15  37 232 251  14  24   1  62 290  14   1 215  12  23  20  14  53\n",
      " 268  12  32 241   1 194  66 381 235  66   1   1  14 300 204   2   2 225\n",
      "  37  17   1   1 228 141   9  21 220  13  12 149   1  28 209  17   1  18\n",
      "  13  16  11  13 239  23   1 336  92 284 196  28  22  16  10  40  23  21\n",
      "  23  23  20  17  15   1  92  19 279   2  21  12   1  22  16  12]\n"
     ]
    }
   ],
   "source": [
    "print(y_test_pred)"
   ]
  },
  {
   "cell_type": "code",
   "execution_count": 38,
   "metadata": {},
   "outputs": [
    {
     "name": "stdout",
     "output_type": "stream",
     "text": [
      "[23 15  1 23  1 15 15 15 14 22 16 23 15  2 20 14 13 20 13 20 15 20 15  2\n",
      " 13 23 15 14  1 14 20  1 14 15  2 13 20  1 20  2 13 13 13  1 13 15  1 20\n",
      " 15 13 20  2  2 14 20 22 21 15 20 14 23 20  2  2 20 15 14  2 15 21 23  1\n",
      " 22 20  1 20 20 15  2 15 20 20 14 14 15 13 20  2 15 14  1 13  1 14  1  2\n",
      " 20 14  1 20 20 22 23  1 15 15 20 23  1  2  2  1 15 14  2 13  1 13  1 14\n",
      " 13 13 15 16 16 20 20 14 20 16 23 16 22  1  1 20  1  1 23 13 23 14 23  1\n",
      "  2  1 13  1 14 20  1 20 20 13  2 20  1 15  2 15 22 20 23 23 15  2  1 14\n",
      "  1  1  1 13 20  2 15 13 20 16 16 13 16 15  1 20 20  2 16 14 22 20  1 14\n",
      "  1 23 20  2 15  1 20 22 15 16  2 16  2 20 14 23 15 22  2 23 23 23 22 16\n",
      "  2 14 16 13 23 14 23 20 20 15 14  1  2 16  1 15 16 14  2 20  2 13  2  1\n",
      "  1 14 14 13 14 21 21  1 20 14  1 20 14 20 14 16 14  1 21 20 15 13 15 20\n",
      " 14 13 20 21  2 16 21  2 21 15  1  1 21 20 22  2  2 21 13 20 20 13 14 23\n",
      " 23 14  2 16  2 14 15  2 20  1  1 14  2 13  1 20  2 20 20  1 23 15 22 13\n",
      "  1  1 13 20  2 14 14 13 14 13 22 22 15  2  1  1  2 20 20 20  1 14 15  1\n",
      "  1 13 13  2  2 23 15 14 13  1  1 20 15 20  2 20 15 15 20 16 14 23 15 15\n",
      " 14  1 13 22 20 22  2 23 20  1 15 13 21 13 13 20 14 14 13  2 13 15  1 20\n",
      "  1  2 22 20  1 20  1 14  1  1  1 23 20 16 13  1 20 13 15 14  1 13 20 15\n",
      " 20 23 20 13 14 20 15 20  2  2 14 20 20 20  2 15 23 15  2 13  1 15 14  1\n",
      " 15 20 14 23  1 20 16 20 23  2 20  1 13 20  1  1  1 23 20 15  2 14 14 14\n",
      " 20 13 14 13 23  1  2 14 14  1 14 22 20 20  1 15  1 23  2 20  1 13 20 15\n",
      "  1 22 14 20  2 14 15  1 15 15 20 15  1  1 13 16  1 20 15 20  2 20 13 13\n",
      " 16 16 22 20  1 21 23 22 14 14  1 13  1 14 15  1 20 14 14 21  1 14 16  1\n",
      " 20 15 23 16  2 23 22 15 16 13  2 22 23 13 20 20 23 15 14  1 15 23 13  2\n",
      " 21  2 21 22 14 20 23 14 20 20  1 23 20 22 23 20  1  2 14 15 23  2  1 15\n",
      " 16 13  1  1 20 15  2 14 20 16 13 22  1 20 20 13  1 16 13 20  2 13 20 16\n",
      "  1 20 15 20 20 20 20 13 13 20 20 14 15 22 15 14 14  1 15 20 20  2 14 14\n",
      "  1 14 13 14]\n"
     ]
    }
   ],
   "source": [
    "print(y_test_Pred_svc)"
   ]
  },
  {
   "cell_type": "code",
   "execution_count": 39,
   "metadata": {},
   "outputs": [
    {
     "data": {
      "text/plain": [
       "array([191,  20,   1, 146,   1,  20,  13,  19,  14, 296,  13, 251, 139,\n",
       "         1, 215,  13,  13, 307,  13,  19,  20, 281, 260,  13,  13, 339,\n",
       "        15,  22,   1,  20, 239,   1,  14, 226,   2,  13,  37,   1, 226,\n",
       "         7,  13,  13,  13,   1,  13, 300,   1, 239,  19,  13,  20,   2,\n",
       "         8,  13,  54,  27, 263,  15,  20,  22, 248,  19,   2,   8,  19,\n",
       "         9,  13,   8,  13, 296,  23,   1, 100,  19,   1,  19, 100, 191,\n",
       "         2, 251, 205,  49,  14,  23, 180,  13, 205,   8,  23,  14,   1,\n",
       "        13,   1,  13,   1,   5,  19,  14,   8, 239,  20,  27, 263,   2,\n",
       "       139,   9, 133,  23,   1,   3,   2,   8,  23,  14,   8,  13,   2,\n",
       "        13,   1,  14,  13,  13,  13,  13,  20,  20, 307,  14, 196,  19,\n",
       "       141,  16,  22,   1,   1,  47,   1,   1,  23, 133, 308,  14, 251,\n",
       "         1,   6,   2,  20,   1,  14, 215,   1,  54, 239,  23,   8,  49,\n",
       "         1,  59,   8,  15, 339,  20,  27, 136,  15,   8,   1,  13,   2,\n",
       "         1,   1,  13, 281,   8,  15,  13, 281,  20,  19,  15,  20,  62,\n",
       "         1,  20, 239,   2,  13,  13, 140,  19,   1,  14,   1,  27,  20,\n",
       "         3,  20,   1, 239, 292,  15,  20,   1,  20,   2,  20,  14, 339,\n",
       "       191, 282,  13, 141, 296, 251,  19,  22,   8,  14,  13,  13, 300,\n",
       "        13, 191,  49, 307,  15,  14,   1,   2,  15,   1,  15,  14,  22,\n",
       "         8, 307,   2,  23,   8,   1,   1,  23,  22,  13,  14, 215, 133,\n",
       "         1, 286,  21,   2,  54,  20, 301,  13,  33,  14,   1, 292,  20,\n",
       "        19,  13,  15, 239,  13,  13, 328, 100,   8,  20, 300,  13,  19,\n",
       "        15,   1,   1,  19,  49, 195,   7,   6, 292,  13, 133, 133,  13,\n",
       "        14,  22, 141,  14,   2,  13,   8,  13, 146,  13,  66,   1,   2,\n",
       "        14,   5,  13,   2,  19,   5,  19, 292,   2, 167,  15, 182,  13,\n",
       "         1,   2,  13, 292,   8,  14,  20,  13,  23,  13,  22, 292,  15,\n",
       "         8,   1,   1,  13,  19, 281,  19,   1,  13, 251,   1,   1,  20,\n",
       "        13,   2,   8, 146,  15,  14,  20,   1,   1,  30,  15, 239,   5,\n",
       "        19,  15,  27, 286,  20,  14, 191,  20, 288, 133,   1,   9, 339,\n",
       "       332, 275,   8, 191,  19,   1,  92,  13,  19,   9,  13, 281,  14,\n",
       "        14,   9,  13,  13,  15,   1,  19,   1,   8, 136, 282,   1,  20,\n",
       "         2,  20,   2,   1,   1, 141,  20,  13,  13,   8,  19,   9,  19,\n",
       "        20,   2,  13,  19,  15, 301, 139, 286,  13,  14,  20,  23,  19,\n",
       "         7,   8,  13,  66, 243,  19,   8,  19, 136,  19,   2,  13,   2,\n",
       "        59,  14,   1,  15, 288,  13, 263,   1,  66,  19, 205,  23,   8,\n",
       "       292,   1,  13, 215,   1,   1,   1, 304,  66,  20,   3,  13,  14,\n",
       "        13, 160,  13,  13,  13, 195,   2,   2,  13,  14,   1,  14, 195,\n",
       "        32, 160,   1,  15,   2, 136,   8, 206,   1,  13, 206,  15,   1,\n",
       "        22,  14, 205,   2,  14,   9,   1,  27,  19,  33,  23,   1,   2,\n",
       "        13,  20,   1,  20,  19, 301,   2, 286,  13,  20,  14,  20,  19,\n",
       "       301,   1, 292,  27, 339,  14,  14,   2,  20,   1,  14,  13,   1,\n",
       "        20,  23,  14, 195,   1,  14,  14,   1, 288, 191,  23,  13,   6,\n",
       "       191,  27,  99,  20,  13,   2, 136,  23,  13,  49, 282, 308,  99,\n",
       "        14,   1,  62, 274,  13,   1, 215,   8, 133,  22,  14, 239, 141,\n",
       "        14,  34, 292,   1, 183,  66, 195,  99,  66,   1,   1,  14, 288,\n",
       "       274,   8,   2,  99,  37,  14,   1,   1, 301, 191,   8, 133, 205,\n",
       "        13,  13, 139,   1,  20, 292,  20,   1,  20,  13,  19,   8,  13,\n",
       "       239,  20,   1, 332,  92, 281, 205,  19,  19,  13,  13,  49,  20,\n",
       "        14,  15, 195,  15,  13,  14,   2, 215,  47, 307,   2,  14,  14,\n",
       "         1,  14,   9,  14])"
      ]
     },
     "execution_count": 39,
     "metadata": {},
     "output_type": "execute_result"
    }
   ],
   "source": [
    "y_test_pred_normal"
   ]
  },
  {
   "cell_type": "code",
   "execution_count": 40,
   "metadata": {},
   "outputs": [
    {
     "name": "stdout",
     "output_type": "stream",
     "text": [
      "Error appox in per% /for random forest----> -+ 13.310784868994853 %\n"
     ]
    }
   ],
   "source": [
    "print(\"Error appox in per% /for random forest----> -+\",(abs(y_test_pred-y_test)/y_test * 100 ).mean(),'%')"
   ]
  },
  {
   "cell_type": "code",
   "execution_count": 41,
   "metadata": {},
   "outputs": [
    {
     "name": "stdout",
     "output_type": "stream",
     "text": [
      "Error appox in per% /for Support Vector Machine ----> -+ 38.03624631406531 %\n"
     ]
    }
   ],
   "source": [
    "print(\"Error appox in per% /for Support Vector Machine ----> -+\",(abs(y_test_Pred_svc-y_test)/y_test * 100 ).mean(),'%')"
   ]
  },
  {
   "cell_type": "code",
   "execution_count": 42,
   "metadata": {},
   "outputs": [
    {
     "name": "stdout",
     "output_type": "stream",
     "text": [
      "Error appox in per% /for Naive Bayes For Gussian Distribution ----> -+ 32.00855391167187 %\n"
     ]
    }
   ],
   "source": [
    "print(\"Error appox in per% /for Naive Bayes For Gussian Distribution ----> -+\",(abs(y_test_pred_normal-y_test)/y_test * 100 ).mean(),'%')"
   ]
  }
 ],
 "metadata": {
  "kernelspec": {
   "display_name": "base",
   "language": "python",
   "name": "python3"
  },
  "language_info": {
   "codemirror_mode": {
    "name": "ipython",
    "version": 3
   },
   "file_extension": ".py",
   "mimetype": "text/x-python",
   "name": "python",
   "nbconvert_exporter": "python",
   "pygments_lexer": "ipython3",
   "version": "3.8.8"
  },
  "orig_nbformat": 4,
  "vscode": {
   "interpreter": {
    "hash": "dc07d24e2f18896857f0b2a651fe84ba40ce7b297e58d8804a308c8039f752a6"
   }
  }
 },
 "nbformat": 4,
 "nbformat_minor": 2
}
